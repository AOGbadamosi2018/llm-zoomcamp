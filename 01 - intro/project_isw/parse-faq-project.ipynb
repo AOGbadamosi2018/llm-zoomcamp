{
 "cells": [
  {
   "cell_type": "code",
   "execution_count": 1,
   "id": "b1f97cc1-4d8d-4d78-819b-2f950d9d980c",
   "metadata": {},
   "outputs": [],
   "source": [
    "### Relevant ISW FAQ file id - 1l9o8VeVEAYCSLlVOJ7eM7EZk-EPcGTP8 , ISW FAQ cleaned - 1j8jbcAZVIXvip-esOSSKp050Znsq70zV, ISW RAG file  - 1j5XXnSOENvj6nzrsnPzsGZYXOtyqG1D6"
   ]
  },
  {
   "cell_type": "code",
   "execution_count": 8,
   "id": "234c44c7-cfa9-4f20-9e9f-0537b637003e",
   "metadata": {},
   "outputs": [
    {
     "name": "stdout",
     "output_type": "stream",
     "text": [
      "Collecting python-docx\n",
      "  Downloading python_docx-1.1.2-py3-none-any.whl.metadata (2.0 kB)\n",
      "Requirement already satisfied: lxml>=3.1.0 in /usr/local/python/3.12.1/lib/python3.12/site-packages (from python-docx) (5.3.0)\n",
      "Requirement already satisfied: typing-extensions>=4.9.0 in /home/codespace/.local/lib/python3.12/site-packages (from python-docx) (4.12.2)\n",
      "Downloading python_docx-1.1.2-py3-none-any.whl (244 kB)\n",
      "Installing collected packages: python-docx\n",
      "Successfully installed python-docx-1.1.2\n",
      "\u001b[31mERROR: Could not find a version that satisfies the requirement exceptions (from versions: none)\u001b[0m\u001b[31m\n",
      "\u001b[0m\u001b[31mERROR: No matching distribution found for exceptions\u001b[0m\u001b[31m\n",
      "\u001b[0m"
     ]
    }
   ],
   "source": [
    "#!pip install python-docx\n"
   ]
  },
  {
   "cell_type": "code",
   "execution_count": 35,
   "id": "4cd1eaa8-3424-41ad-9cf2-3e8548712865",
   "metadata": {},
   "outputs": [],
   "source": [
    "# pip install python-docx instead of just docx \n",
    "\n",
    "import io\n",
    "\n",
    "import requests\n",
    "import docx"
   ]
  },
  {
   "cell_type": "code",
   "execution_count": 36,
   "id": "8180e7e4-b90d-4900-a59b-d22e5d6537c4",
   "metadata": {},
   "outputs": [],
   "source": [
    "def clean_line(line):\n",
    "    line = line.strip()\n",
    "    line = line.strip('\\uFEFF')\n",
    "    return line\n",
    "\n",
    "def read_faq(file_id):\n",
    "    url = f'https://docs.google.com/document/d/{file_id}/export?format=docx'\n",
    "    \n",
    "    response = requests.get(url)\n",
    "    response.raise_for_status()\n",
    "    \n",
    "    with io.BytesIO(response.content) as f_in:\n",
    "        doc = docx.Document(f_in)\n",
    "\n",
    "    questions = []\n",
    "\n",
    "    question_heading_style = 'heading 4'\n",
    "    #section_heading_style = 'heading 1'\n",
    "    \n",
    "    #heading_id = ''\n",
    "    #section_title = ''\n",
    "    question_title = ''\n",
    "    answer_text_so_far = ''\n",
    "     \n",
    "    for p in doc.paragraphs:\n",
    "        style = p.style.name.lower()\n",
    "        p_text = clean_line(p.text)\n",
    "    \n",
    "        if len(p_text) == 0:\n",
    "            continue\n",
    "    \n",
    "        if style == question_heading_style:\n",
    "            answer_text_so_far = answer_text_so_far.strip()\n",
    "            if answer_text_so_far != '' and question_title != '':\n",
    "                questions.append({\n",
    "                    'text': answer_text_so_far,\n",
    "                    'question': question_title,\n",
    "                })\n",
    "                answer_text_so_far = ''\n",
    "    \n",
    "            question_title = p_text\n",
    "            continue\n",
    "        \n",
    "        answer_text_so_far += '\\n' + p_text\n",
    "    \n",
    "    answer_text_so_far = answer_text_so_far.strip()\n",
    "    if answer_text_so_far != ''  and question_title != '':\n",
    "        questions.append({\n",
    "            'text': answer_text_so_far,\n",
    "            'question': question_title,\n",
    "        })\n",
    "\n",
    "    return questions"
   ]
  },
  {
   "cell_type": "code",
   "execution_count": 37,
   "id": "7d3c2dd7-f64a-4dc7-a4e3-3e8aadfa720f",
   "metadata": {},
   "outputs": [],
   "source": [
    "# faq_documents = {\n",
    "#     'data-engineering-zoomcamp': '19bnYs80DwuUimHM65UV3sylsCn2j1vziPOwzBwQrebw',\n",
    "#     'machine-learning-zoomcamp': '1LpPanc33QJJ6BSsyxVg-pWNMplal84TdZtq10naIhD8',\n",
    "#     'mlops-zoomcamp': '12TlBfhIiKtyBv8RnsoJR6F72bkPDGEvPOItJIxaEzE0',\n",
    "# }\n",
    "\n",
    "faq_documents = {\n",
    "    'isw_general_faq': '1j8jbcAZVIXvip-esOSSKp050Znsq70zV',\n",
    "    'qt_rebirth_faq': '1Cgpy8M_cWELHmpMULrOU-RoFWIgALiIezJ2ldyxORa4',\n",
    "}"
   ]
  },
  {
   "cell_type": "code",
   "execution_count": 38,
   "id": "f94efe26-05e8-4ae5-a0fa-0a8e16852816",
   "metadata": {},
   "outputs": [
    {
     "name": "stdout",
     "output_type": "stream",
     "text": [
      "isw_general_faq\n",
      "qt_rebirth_faq\n"
     ]
    }
   ],
   "source": [
    "documents = []\n",
    "\n",
    "for subject, file_id in faq_documents.items():\n",
    "    print(subject)\n",
    "    faq_documents = read_faq(file_id)\n",
    "    documents.append({'subject': subject, 'documents': faq_documents})"
   ]
  },
  {
   "cell_type": "code",
   "execution_count": 39,
   "id": "06b8d8be-f656-4cc3-893f-b159be8fda21",
   "metadata": {},
   "outputs": [],
   "source": [
    "import json"
   ]
  },
  {
   "cell_type": "code",
   "execution_count": 40,
   "id": "68ef0a85-a634-40a8-b039-4f36f8654c6f",
   "metadata": {},
   "outputs": [
    {
     "data": {
      "text/plain": [
       "{'subject': 'qt_rebirth_faq',\n",
       " 'documents': [{'text': 'The New quick teller offers:\\nBetter experience with our new and intuitive UI\\nThe new Quickteller Account for faster transactions\\nMultiple payments and many more',\n",
       "   'question': 'What has changed on Quickteller?'},\n",
       "  {'text': 'You can expect to make seamless instant payments to over 5,000 billers from different categories, faster transactions, a user-friendly interface and many more.',\n",
       "   'question': 'What should I expect on Quickteller?'},\n",
       "  {'text': 'Quickteller is the digital commerce platform that provides access to everyday lifestyle services anytime and anywhere on one app to make you live smarter and stay in control of your finances.',\n",
       "   'question': 'What is Quickteller?'},\n",
       "  {'text': 'On Quickteller, you can pay bills, send and receive money, request payments from friends and family, buy airtime and data, take loans etc. Simply put, you can pay for almost anything on Quickteller.',\n",
       "   'question': 'What can I do on Quickteller?'},\n",
       "  {'text': 'Your ecash is now located in your wallet. To view your ecash, sign in Quickteller and navigate to wallet to view your eCash balance.\\nIs ecash the same as QT account?\\nNo. eCash is a virtual card with limitations while the Quickteller account is a NUBAN standard account (with a 10-digit account number) for receiving funds,sending money and for making payments.',\n",
       "   'question': \"I am an existing customer.Why can't I see my ecash on the dashboard?\"},\n",
       "  {'text': \"You can't fund your eCash on the new Quickteller.\",\n",
       "   'question': 'How can I fund my ecash?'},\n",
       "  {'text': 'No, you can only move money from your eCash wallet into your Quckteller account.',\n",
       "   'question': 'Can I fund my ecash with QT account?'},\n",
       "  {'text': \"Quickteller is a fully digital platform that allows individuals and businesses to make transactions with ease. With Quickteller, you can get a digital account which is not eCash. The eCash is a virtual card with limitation which can't be used for all transactions.\",\n",
       "   'question': \"Why can't I see my ecash as a payment option on the payment page?\"},\n",
       "  {'text': 'Your ecash is mapped to your account in our system, so we know the transaction is from you.',\n",
       "   'question': \"Why don't I need a PIN to move money from my ecash account to my QT account?\"},\n",
       "  {'text': \"No you can't because you already have an existing profile. Simply make use of the details used during onboarding to sign in. You can only sign in with google if you used the sign up with google option when creating your account.\",\n",
       "   'question': \"I am a returning user but I can't sign in with google. What should I do?\"},\n",
       "  {'text': 'You can sign up to Quickteller using your phone number, email, google ID, Apple ID on the web, mobile app and USSD on a feature phone. The signup process is quick and intuitive, simply download the mobile app from your play store or visit the web on www.quickteller.com/signup and follow the easy steps, or dial *723# on your smart phone or feature phone. (click here to see how)',\n",
       "   'question': 'How do I sign up on the new Quickteller (for new users only)'},\n",
       "  {'text': 'The Quickteller Wallet system is a digital representation of your physical wallet. It houses your Quickteller Account, your ecash and your bank cards from other banks giving you a single view into all your balances.\\nHow do I move money from my ecash to my QT Account',\n",
       "   'question': 'What is the Quickteller Wallet?'},\n",
       "  {'text': 'Sign in to Quickteller.\\nClick on wallet and navigate to eCash.\\nClick on wallet and navigate to eCash.\\nClick on pay.\\nCongratulations! you have now moved funds to your QT account.',\n",
       "   'question': 'How do I move money from my ecash to my QT Account'},\n",
       "  {'text': 'You can add as many bank cards as you want to your wallet.',\n",
       "   'question': 'How many bank cards can I add to my wallet?'},\n",
       "  {'text': \"It's very easy, simply follow the steps below:\\nSign in to your Quickteller account\\nClick on wallet and navigate to Bank Cards\\nClick on the bank card to view\\nClick on check balance and insert CVV and card PIN\\nClick check balance to view card balance\",\n",
       "   'question': 'How do I check my card balance'},\n",
       "  {'text': 'To delete your card from your wallet, follow the steps below:\\nSign into the Quickteller platform\\nClick on wallet and navigate to Bank Cards\\nSelect the card you wish to remove\\nClick on remove to remove the saved card',\n",
       "   'question': 'How can I delete a card from my wallet?'},\n",
       "  {'text': 'Verve cards and Naira MasterCards are currently accepted for all transaction types. VISA cards are also supported for airtime and bill payments on the website.',\n",
       "   'question': 'What type of card can I use to make payment on Quickteller?'},\n",
       "  {'text': 'On Quickteller you can pay with your bank cards (Master, Visa, Verve), Pay With Transfer and Pay with your Quickteller account. We are always innovating, so look out for newer ways to pay.',\n",
       "   'question': 'What are the Accepted payment instruments on Quickteller'},\n",
       "  {'text': 'On Quickteller you can pay with your bank cards (Master, Visa, Verve), Pay With Transfer and Pay with your Quickteller account. We are always innovating, so look out for newer ways to pay.',\n",
       "   'question': 'What are the Accepted payment instruments on Quickteller'}]}"
      ]
     },
     "execution_count": 40,
     "metadata": {},
     "output_type": "execute_result"
    }
   ],
   "source": [
    "documents[1]"
   ]
  },
  {
   "cell_type": "code",
   "execution_count": 41,
   "id": "30d50bc1-8d26-44ee-8734-cafce05e0523",
   "metadata": {},
   "outputs": [],
   "source": [
    "with open('isw_rebirth_faq_document.json', 'wt') as f_out:\n",
    "    json.dump(documents, f_out, indent=2)"
   ]
  },
  {
   "cell_type": "code",
   "execution_count": 43,
   "id": "0eabb1c6-5cc6-4d4d-a6da-e27d41cea546",
   "metadata": {},
   "outputs": [
    {
     "name": "stdout",
     "output_type": "stream",
     "text": [
      "[\n",
      "  {\n",
      "    \"subject\": \"isw_general_faq\",\n",
      "    \"documents\": [\n",
      "      {\n",
      "        \"text\": \"FAQTalk To Us\\nClick on the Buy Airtime Menu\\nSelect \\u201cTOP-UP YOUR PHONE\\u201d for Self Recharge or \\u201cTOP-UP OTHER PHONES\\u201d for Third Party Recharge and complete the fields by selecting the desired airtime amount and network.\\nInsert Card Details, i.e. Card number, Expiry Date, CVV, PIN, Safetoken/OTP, or Verve eCash PIN if you are using eCash\",\n",
      "        \"question\": \"How do I buy Airtime via Quickteller\"\n",
      "      },\n",
      "      {\n",
      "        \"text\": \"Click on the Transfer Money menu\\nComplete the fields by inserting the account number, desired bank name and amount\\nInsert Card Details, i.e. PAN, Expiry Date, CVV, PIN, Safetoken/OTP or Verve eCash PIN if you are transferring from your eCash account.\",\n"
     ]
    }
   ],
   "source": [
    "!head isw_rebirth_faq_document.json"
   ]
  },
  {
   "cell_type": "code",
   "execution_count": null,
   "id": "9bb4ce6c-6499-4c29-8e62-5cbfcd1fdde6",
   "metadata": {},
   "outputs": [],
   "source": []
  }
 ],
 "metadata": {
  "kernelspec": {
   "display_name": "Python 3 (ipykernel)",
   "language": "python",
   "name": "python3"
  },
  "language_info": {
   "codemirror_mode": {
    "name": "ipython",
    "version": 3
   },
   "file_extension": ".py",
   "mimetype": "text/x-python",
   "name": "python",
   "nbconvert_exporter": "python",
   "pygments_lexer": "ipython3",
   "version": "3.12.1"
  }
 },
 "nbformat": 4,
 "nbformat_minor": 5
}
