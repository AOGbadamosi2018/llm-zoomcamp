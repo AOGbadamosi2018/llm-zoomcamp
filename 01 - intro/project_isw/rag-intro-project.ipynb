{
 "cells": [
  {
   "cell_type": "markdown",
   "id": "4c1109f7-9697-4fa9-8c0f-6e41e4fd1079",
   "metadata": {},
   "source": [
    "## A. IMPLEMENTING THE MINSEARCH ENGINE"
   ]
  },
  {
   "cell_type": "code",
   "execution_count": 1,
   "id": "69ba5eeb-b4c5-42e0-ac94-6a1b42204ba0",
   "metadata": {},
   "outputs": [],
   "source": [
    "#!wget https://raw.githubusercontent.com/alexeygrigorev/minsearch/main/minsearch.py\n"
   ]
  },
  {
   "cell_type": "code",
   "execution_count": 2,
   "id": "34cea75c-f2cc-4a8f-9f62-217bdca10cfa",
   "metadata": {},
   "outputs": [],
   "source": [
    "# minsearch repository https://github.com/alexeygrigorev/minsearch/tree/main"
   ]
  },
  {
   "cell_type": "code",
   "execution_count": 3,
   "id": "3b4db5ce-577f-44a7-9927-c017f0b349c1",
   "metadata": {},
   "outputs": [],
   "source": [
    "#implementing the search engine \n",
    "import minsearch"
   ]
  },
  {
   "cell_type": "code",
   "execution_count": 4,
   "id": "f70abbac-e475-4725-9f36-0a2e97de2941",
   "metadata": {},
   "outputs": [],
   "source": [
    "# Getting the indexed FAQ documents\n",
    "\n",
    "import json"
   ]
  },
  {
   "cell_type": "code",
   "execution_count": 5,
   "id": "7121dc05-e23a-488f-910c-35647267af48",
   "metadata": {},
   "outputs": [],
   "source": [
    "with open('isw_faq_document.json', 'rt') as f_in:\n",
    "    docs_raw = json.load(f_in)"
   ]
  },
  {
   "cell_type": "code",
   "execution_count": 6,
   "id": "3fcc063a-7afa-4853-8090-5154c4d79bfe",
   "metadata": {},
   "outputs": [],
   "source": [
    "# restructuring the json to contain document records for each course\n",
    "documents = []\n",
    "\n",
    "for course_dict in docs_raw:\n",
    "    for doc in course_dict['documents']:\n",
    "        doc['course'] = course_dict['course']\n",
    "        documents.append(doc)"
   ]
  },
  {
   "cell_type": "code",
   "execution_count": 7,
   "id": "c5551199-071c-438e-854d-16c6f56149d1",
   "metadata": {},
   "outputs": [],
   "source": [
    "#indexing the document so we can search through it \n",
    "\n",
    "index = minsearch.Index(\n",
    "    text_fields = ['question','text'],\n",
    "    keyword_fields=['course']\n",
    ")"
   ]
  },
  {
   "cell_type": "code",
   "execution_count": 8,
   "id": "44fd413a-277b-486c-8336-7df1a7c1e8d4",
   "metadata": {},
   "outputs": [
    {
     "data": {
      "text/plain": [
       "<minsearch.Index at 0x7174548c8980>"
      ]
     },
     "execution_count": 8,
     "metadata": {},
     "output_type": "execute_result"
    }
   ],
   "source": [
    "index.fit(documents)"
   ]
  },
  {
   "cell_type": "code",
   "execution_count": 9,
   "id": "463defd8-eddf-4937-8a80-9933206dc9e0",
   "metadata": {},
   "outputs": [],
   "source": [
    "# texting the index \n",
    "#boost = {'question': 2.0, 'section':0.5} #this means the question field is 3 times more important than the text field\n",
    "boost = {'question': 2.0}\n",
    "\n",
    "results = index.search(\n",
    "    query='USSD code for quicketeller recharge?',\n",
    "    boost_dict =boost,\n",
    "    filter_dict = {'course':'isw_faq_cleaned'},\n",
    "    num_results=1\n",
    ")"
   ]
  },
  {
   "cell_type": "code",
   "execution_count": 10,
   "id": "77921b93-6f7b-48d1-b3d3-c0c9a2de7c70",
   "metadata": {},
   "outputs": [
    {
     "data": {
      "text/plain": [
       "[{'text': 'Recharge\\n*723*[Amount]#\\n*723*[MobileNumber]*[Amount]#\\nThis is a short code for a self-recharge transaction.\\nUse this code to recharge other people’s phone number.\\nBalance enquiry\\n*723*00#\\nYou can use this code to check your account balance. This includes eCash account balance and your other bank accounts. Please note, extra cost may apply and your card must have been added on Quickteller.\\nTransfer\\n*723*[AccountNumber]*[Amount]#\\nUse this code to transfer funds to a bank account.\\nGenerate OTP\\n*723*0#\\nUse this code to generate OTP to complete your transaction.\\nOpt out of OTP\\n*723*0000#\\nUse this code to opt out of using Quickteller USSD service.\\nBill Payment\\n*723*[PaymentCode]*[CustomerId]*[Amount]#\\n*723*[PaymentCode]*[Amount]#\\nUse this code to pay bills on Quickteller USSD service.\\nLoans\\n*723*6#\\nAccess Quickteller loans from USSD service.\\nPin Selection\\n*723*3#\\n*723*4#\\nUse this code to select a new PIN when you have not activated your eCash.\\nUse this code to change existing eCash PIN.\\nGenerate Paycode for Withdrawal\\n*723*8*Amount#\\nUse this code to generate a Paycode of an amount between N1,000 and N20,000 in multiples of N1,000 and cash out at any Paycode Accepting ATM.',\n",
       "  'question': 'What are the USSD codes if I want to do transactions by USSD?',\n",
       "  'course': 'isw_faq_cleaned'}]"
      ]
     },
     "execution_count": 10,
     "metadata": {},
     "output_type": "execute_result"
    }
   ],
   "source": [
    "results"
   ]
  },
  {
   "cell_type": "markdown",
   "id": "77ec2e35-a6f6-4304-81b1-cc04899db21b",
   "metadata": {},
   "source": [
    "## B. PASSING THE CONTEXT TO AN LLM "
   ]
  },
  {
   "cell_type": "code",
   "execution_count": 11,
   "id": "d70f6b95-f8bf-4223-8dc8-b0a631daa431",
   "metadata": {},
   "outputs": [],
   "source": [
    "import os \n",
    "#os.environ['OPENAI_API_KEY']"
   ]
  },
  {
   "cell_type": "code",
   "execution_count": 12,
   "id": "e90129dd-3545-4498-884b-33b443fae738",
   "metadata": {},
   "outputs": [],
   "source": [
    "from openai import OpenAI"
   ]
  },
  {
   "cell_type": "code",
   "execution_count": 13,
   "id": "63b4a04a-c445-4fa9-894e-512d276337ca",
   "metadata": {},
   "outputs": [],
   "source": [
    "client = OpenAI(api_key = os.environ['OPENAI_API_KEY'])\n",
    "\n",
    "def no_rag(query): \n",
    "    response = client.chat.completions.create(\n",
    "        model='gpt-4o-mini',\n",
    "        messages=[{\"role\":'user', \"content\":f'{query}'}])\n",
    "    \n",
    "    return response.choices[0].message.content"
   ]
  },
  {
   "cell_type": "code",
   "execution_count": 14,
   "id": "6c5eff08-cd44-484e-a972-0e641d2e404d",
   "metadata": {},
   "outputs": [],
   "source": [
    "#Setting the context\n",
    "\n",
    "prompt_template = \"\"\"\n",
    "You are course teaching assistant. Answer the QUESTION based on context from the FAQ databse.\n",
    "Use only the facts from the CONTEXT when answering the QUESTION \n",
    "If the CONTEXT doesn't contain the answer , output NONE\n",
    "\n",
    "\n",
    "QUESTION: {question}\n",
    "\n",
    "CONTEXT: {context}\n",
    "\n",
    "\"\"\""
   ]
  },
  {
   "cell_type": "code",
   "execution_count": 15,
   "id": "83fde5bd-fe02-4c10-888b-c042614a29cd",
   "metadata": {},
   "outputs": [],
   "source": [
    "context = \"\"\n",
    "\n",
    "for doc in results:\n",
    "    context = context + f\"question: {doc['question']}\\nanswer: {doc['text']}\\n\\n\""
   ]
  },
  {
   "cell_type": "code",
   "execution_count": 16,
   "id": "a8a757bb-1a21-4b39-97f0-9c54fb077790",
   "metadata": {},
   "outputs": [
    {
     "name": "stdout",
     "output_type": "stream",
     "text": [
      "question: What are the USSD codes if I want to do transactions by USSD?\n",
      "answer: Recharge\n",
      "*723*[Amount]#\n",
      "*723*[MobileNumber]*[Amount]#\n",
      "This is a short code for a self-recharge transaction.\n",
      "Use this code to recharge other people’s phone number.\n",
      "Balance enquiry\n",
      "*723*00#\n",
      "You can use this code to check your account balance. This includes eCash account balance and your other bank accounts. Please note, extra cost may apply and your card must have been added on Quickteller.\n",
      "Transfer\n",
      "*723*[AccountNumber]*[Amount]#\n",
      "Use this code to transfer funds to a bank account.\n",
      "Generate OTP\n",
      "*723*0#\n",
      "Use this code to generate OTP to complete your transaction.\n",
      "Opt out of OTP\n",
      "*723*0000#\n",
      "Use this code to opt out of using Quickteller USSD service.\n",
      "Bill Payment\n",
      "*723*[PaymentCode]*[CustomerId]*[Amount]#\n",
      "*723*[PaymentCode]*[Amount]#\n",
      "Use this code to pay bills on Quickteller USSD service.\n",
      "Loans\n",
      "*723*6#\n",
      "Access Quickteller loans from USSD service.\n",
      "Pin Selection\n",
      "*723*3#\n",
      "*723*4#\n",
      "Use this code to select a new PIN when you have not activated your eCash.\n",
      "Use this code to change existing eCash PIN.\n",
      "Generate Paycode for Withdrawal\n",
      "*723*8*Amount#\n",
      "Use this code to generate a Paycode of an amount between N1,000 and N20,000 in multiples of N1,000 and cash out at any Paycode Accepting ATM.\n",
      "\n",
      "\n"
     ]
    }
   ],
   "source": [
    "print(context)"
   ]
  },
  {
   "cell_type": "markdown",
   "id": "72c23a63-c14c-4632-a4dc-76e5a0f3a079",
   "metadata": {},
   "source": [
    "### Modularizing the code "
   ]
  },
  {
   "cell_type": "code",
   "execution_count": 18,
   "id": "cac464e6-9a60-446a-b4b4-1d36661de29d",
   "metadata": {},
   "outputs": [],
   "source": [
    "def search(query):\n",
    "\n",
    "        # texting the index \n",
    "    boost = {'question': 2.0} #this means the question field is 3 times more important than the text field\n",
    "    \n",
    "    \n",
    "    results = index.search(\n",
    "        query=query,\n",
    "        boost_dict =boost,\n",
    "        filter_dict = {'course':'isw_faq_cleaned'},\n",
    "        num_results=5)\n",
    "\n",
    "    return results\n",
    "    "
   ]
  },
  {
   "cell_type": "code",
   "execution_count": 19,
   "id": "74e26a4c-e1b6-4efa-98c6-ee4779b7e4ac",
   "metadata": {},
   "outputs": [],
   "source": [
    "def build_prompt(query, search_results):\n",
    "    prompt_template = \"\"\"\n",
    "    You are course teaching assistant. Answer the QUESTION based on context from the FAQ databse.\n",
    "    Use only the facts from the CONTEXT when answering the QUESTION \n",
    "    If the CONTEXT doesn't contain the answer , output NONE\n",
    "    \n",
    "    \n",
    "    QUESTION: {question}\n",
    "    \n",
    "    CONTEXT: {context}\n",
    "    \n",
    "    \"\"\".strip()\n",
    "\n",
    "    context = \"\"\n",
    "\n",
    "    for doc in search_results:\n",
    "        context = context + f\"question: {doc['question']}\\nanswer: {doc['text']}\\n\\n\"\n",
    "\n",
    "\n",
    "    prompt = prompt_template.format(question=query, context=context).strip()\n",
    "\n",
    "    return prompt\n",
    "\n"
   ]
  },
  {
   "cell_type": "code",
   "execution_count": 20,
   "id": "b62e6007-7ad2-40ba-904b-42ac1126553c",
   "metadata": {},
   "outputs": [],
   "source": [
    "# modularizing the logic for invoking the gpt \n",
    "\n",
    "def llm(prompt):\n",
    "    client = OpenAI(api_key = os.environ['OPENAI_API_KEY'])\n",
    "    response = client.chat.completions.create(\n",
    "    model='gpt-4o-mini',\n",
    "    messages=[{\"role\":'user', \"content\":prompt}])\n",
    "\n",
    "    return response.choices[0].message.content"
   ]
  },
  {
   "cell_type": "code",
   "execution_count": 50,
   "id": "05af3c76-aa0d-45df-b8d3-2722ad30cae5",
   "metadata": {},
   "outputs": [],
   "source": [
    "# modularized calls \n",
    "query = \"Can I get a loan extension on Quickteller?\"\n",
    "\n",
    "def rag(query):\n",
    " \n",
    "    search_results = search(query)\n",
    "    \n",
    "    prompt = build_prompt(query, search_results)\n",
    "    \n",
    "    answer = llm(prompt)\n",
    "\n",
    "    return answer"
   ]
  },
  {
   "cell_type": "code",
   "execution_count": 51,
   "id": "1945019f-0387-445b-b018-b7835bbcd72c",
   "metadata": {},
   "outputs": [
    {
     "data": {
      "text/plain": [
       "\"As of my last update, Quickteller primarily serves as a payment platform and does not offer direct loan services. However, if you've taken a loan through a partner service that uses Quickteller for payments, you may need to check with that specific service for loan extension options. \\n\\nTo find out the most accurate and updated information, I recommend visiting the Quickteller website or contacting their customer support directly for assistance regarding loan extensions or any related inquiries.\""
      ]
     },
     "execution_count": 51,
     "metadata": {},
     "output_type": "execute_result"
    }
   ],
   "source": [
    "no_rag(query)"
   ]
  },
  {
   "cell_type": "code",
   "execution_count": 52,
   "id": "6d168898-eac5-4720-ba05-8826aa76ea61",
   "metadata": {},
   "outputs": [
    {
     "data": {
      "text/plain": [
       "\"To request a loan extension on Quickteller, you can simply dial *561# from your registered number, select 'loans', and then select 'extend Loan'.\""
      ]
     },
     "execution_count": 52,
     "metadata": {},
     "output_type": "execute_result"
    }
   ],
   "source": [
    "rag(query)"
   ]
  },
  {
   "cell_type": "markdown",
   "id": "b7f708c8-e7fd-4bae-a4c9-9be44b1580e4",
   "metadata": {},
   "source": [
    "## D. PERSISTING DOCUMENT INDEXES USING ELASTICSEARCH FROM A DOCKER CONTAINER"
   ]
  },
  {
   "cell_type": "code",
   "execution_count": 24,
   "id": "4024918d-f69f-4b76-be79-0a257b7467d5",
   "metadata": {},
   "outputs": [
    {
     "data": {
      "text/plain": [
       "{'text': 'Kindly follow the steps below to get your card registered for the OTP service.\\nVisit an ATM\\nInsert your card\\nSelect Quickteller\\nSelect \"Pay bills\"\\nChoose your account type\\nSelect “Others”\\nEnter 322222 as the payment code\\nEnter your phone number as “Customer Reference”\\nAccept the N1.00 amount displayed\\nFollow prompts to complete the activation',\n",
       " 'question': 'How do I register for a safetoken/OTP?',\n",
       " 'course': 'isw_faq_cleaned'}"
      ]
     },
     "execution_count": 24,
     "metadata": {},
     "output_type": "execute_result"
    }
   ],
   "source": [
    "# sample document index from minsearch\n",
    "documents[15]"
   ]
  },
  {
   "cell_type": "code",
   "execution_count": 25,
   "id": "0d11bbc6-9474-4f82-917d-92c89e3f495e",
   "metadata": {},
   "outputs": [],
   "source": [
    "#connecting to the Elastic Search client\n",
    "#Elastic search saves all the index data on disk - may need to do volume mapping for more \n",
    "#advanced persisting.\n",
    "from elasticsearch import Elasticsearch"
   ]
  },
  {
   "cell_type": "code",
   "execution_count": 26,
   "id": "a8c7a22e-2a61-4907-86d2-2ec0a279b653",
   "metadata": {},
   "outputs": [],
   "source": [
    "es_client  = Elasticsearch('http://localhost:9200')"
   ]
  },
  {
   "cell_type": "code",
   "execution_count": 27,
   "id": "33c59b4d-727c-4c16-9b83-32d9be6e58b5",
   "metadata": {},
   "outputs": [
    {
     "data": {
      "text/plain": [
       "ObjectApiResponse({'name': 'ab21dd6fc9ff', 'cluster_name': 'docker-cluster', 'cluster_uuid': 'ld5Tw5SlRYORfhg0szWGOQ', 'version': {'number': '8.4.3', 'build_flavor': 'default', 'build_type': 'docker', 'build_hash': '42f05b9372a9a4a470db3b52817899b99a76ee73', 'build_date': '2022-10-04T07:17:24.662462378Z', 'build_snapshot': False, 'lucene_version': '9.3.0', 'minimum_wire_compatibility_version': '7.17.0', 'minimum_index_compatibility_version': '7.0.0'}, 'tagline': 'You Know, for Search'})"
      ]
     },
     "execution_count": 27,
     "metadata": {},
     "output_type": "execute_result"
    }
   ],
   "source": [
    "es_client.info()"
   ]
  },
  {
   "cell_type": "code",
   "execution_count": 28,
   "id": "1d9d62c0-7edf-4e62-be0e-7f1bcfe1f7b3",
   "metadata": {},
   "outputs": [
    {
     "data": {
      "text/plain": [
       "ObjectApiResponse({'acknowledged': True, 'shards_acknowledged': True, 'index': 'isw-faq'})"
      ]
     },
     "execution_count": 28,
     "metadata": {},
     "output_type": "execute_result"
    }
   ],
   "source": [
    "#Creating an index in the database\n",
    "index_settings = {\n",
    "    \"settings\": {\n",
    "        \"number_of_shards\": 1,\n",
    "        \"number_of_replicas\": 0\n",
    "    },\n",
    "    \"mappings\": {\n",
    "        \"properties\": {\n",
    "            \"text\": {\"type\": \"text\"},\n",
    "            \"question\": {\"type\": \"text\"},\n",
    "            \"course\": {\"type\": \"keyword\"} \n",
    "        }\n",
    "    }\n",
    "}\n",
    "\n",
    "index_name = \"isw-faq\"\n",
    "\n",
    "es_client.indices.create(index=index_name , body = index_settings)"
   ]
  },
  {
   "cell_type": "code",
   "execution_count": 41,
   "id": "3c435ae1-f93b-4132-b75e-6a65be0d4d61",
   "metadata": {},
   "outputs": [
    {
     "name": "stderr",
     "output_type": "stream",
     "text": [
      "/usr/local/python/3.12.1/lib/python3.12/site-packages/tqdm/auto.py:21: TqdmWarning: IProgress not found. Please update jupyter and ipywidgets. See https://ipywidgets.readthedocs.io/en/stable/user_install.html\n",
      "  from .autonotebook import tqdm as notebook_tqdm\n"
     ]
    }
   ],
   "source": [
    "from tqdm.auto import tqdm"
   ]
  },
  {
   "cell_type": "code",
   "execution_count": 42,
   "id": "fc5c91df-9e04-4482-90d3-4cdd2de5642d",
   "metadata": {},
   "outputs": [
    {
     "name": "stderr",
     "output_type": "stream",
     "text": [
      "100%|████████████████████████████████████████████████████████████████████████████████████████████████████| 23/23 [00:00<00:00, 37.10it/s]\n"
     ]
    }
   ],
   "source": [
    "#indexing the FAQ documents - a document is a collection of (question- answer - (document-id or course ))\n",
    "for doc in tqdm(documents):\n",
    "    es_client.index(index=index_name, document = doc)"
   ]
  },
  {
   "cell_type": "code",
   "execution_count": 59,
   "id": "65bdc5e1-6f3b-4893-8a36-078fec4e0868",
   "metadata": {},
   "outputs": [],
   "source": [
    "#querying the indexed documents \n",
    "# \"question^3\" - means that question is 3 times more important than the text and section fields\n",
    "# size means we get five results back \n",
    "\n",
    "def elastic_search(query) : \n",
    "    \n",
    "    #query = \"Where can I find my OTP?\"\n",
    "    \n",
    "    search_query = {\n",
    "        \"size\": 5,\n",
    "        \"query\": {\n",
    "            \"bool\": {\n",
    "                \"must\": {\n",
    "                    \"multi_match\": {\n",
    "                        \"query\": query,\n",
    "                        \"fields\": [\"question^2\", \"text\"],\n",
    "                        \"type\": \"best_fields\"\n",
    "                    }\n",
    "                },\n",
    "                \"filter\": {\n",
    "                    \"term\": {\n",
    "                        \"course\": \"isw_faq_cleaned\"\n",
    "                    }\n",
    "                }\n",
    "            }\n",
    "        }\n",
    "    }\n",
    "    \n",
    "    response = es_client.search(index=index_name, body=search_query)\n",
    "    \n",
    "    \n",
    "    #collecting the several documents into one List (Constnat time complexity)\n",
    "    result_docs = [] \n",
    "    \n",
    "    for hit in response['hits']['hits']:\n",
    "        result_docs.append(hit['_source'])\n",
    "\n",
    "    return result_docs\n",
    "\n",
    "\n"
   ]
  },
  {
   "cell_type": "code",
   "execution_count": 60,
   "id": "67d694a0-3a66-4809-a7b2-6451d5aed7de",
   "metadata": {},
   "outputs": [],
   "source": [
    "#elastic_search(query)"
   ]
  },
  {
   "cell_type": "code",
   "execution_count": 63,
   "id": "32e8d6d0-70f7-46f2-989a-1436ea83bfe5",
   "metadata": {},
   "outputs": [],
   "source": [
    "#Adjusting the RAG workflow to use the elastic search index mappings\n",
    "\n",
    "# modularized calls \n",
    "query = \"Can I get a loan extension on Quickteller?\"\n",
    "\n",
    "def rag(query):\n",
    " \n",
    "    search_results = elastic_search(query)\n",
    "    \n",
    "    prompt = build_prompt(query, search_results)\n",
    "    \n",
    "    answer = llm(prompt)\n",
    "\n",
    "    return answer\n",
    "\n"
   ]
  },
  {
   "cell_type": "code",
   "execution_count": 65,
   "id": "a3fbeab0-9cc7-443c-b315-22606ef422ce",
   "metadata": {
    "scrolled": true
   },
   "outputs": [
    {
     "data": {
      "text/plain": [
       "\"To request a loan extension on Quickteller, you can simply dial *561# from your registered number, select 'loans', and then select 'extend Loan'.\""
      ]
     },
     "execution_count": 65,
     "metadata": {},
     "output_type": "execute_result"
    }
   ],
   "source": [
    "rag(query)"
   ]
  },
  {
   "cell_type": "code",
   "execution_count": 66,
   "id": "de8726f2-ec44-4a5e-9f73-5efba9b4fff6",
   "metadata": {},
   "outputs": [
    {
     "name": "stdout",
     "output_type": "stream",
     "text": [
      "Collecting tiktoken\n",
      "  Downloading tiktoken-0.7.0-cp312-cp312-manylinux_2_17_x86_64.manylinux2014_x86_64.whl.metadata (6.6 kB)\n",
      "Requirement already satisfied: regex>=2022.1.18 in /usr/local/python/3.12.1/lib/python3.12/site-packages (from tiktoken) (2024.7.24)\n",
      "Requirement already satisfied: requests>=2.26.0 in /home/codespace/.local/lib/python3.12/site-packages (from tiktoken) (2.32.3)\n",
      "Requirement already satisfied: charset-normalizer<4,>=2 in /home/codespace/.local/lib/python3.12/site-packages (from requests>=2.26.0->tiktoken) (3.3.2)\n",
      "Requirement already satisfied: idna<4,>=2.5 in /home/codespace/.local/lib/python3.12/site-packages (from requests>=2.26.0->tiktoken) (3.7)\n",
      "Requirement already satisfied: urllib3<3,>=1.21.1 in /home/codespace/.local/lib/python3.12/site-packages (from requests>=2.26.0->tiktoken) (2.2.2)\n",
      "Requirement already satisfied: certifi>=2017.4.17 in /home/codespace/.local/lib/python3.12/site-packages (from requests>=2.26.0->tiktoken) (2024.7.4)\n",
      "Downloading tiktoken-0.7.0-cp312-cp312-manylinux_2_17_x86_64.manylinux2014_x86_64.whl (1.1 MB)\n",
      "\u001b[2K   \u001b[38;2;114;156;31m━━━━━━━━━━━━━━━━━━━━━━━━━━━━━━━━━━━━━━━━\u001b[0m \u001b[32m1.1/1.1 MB\u001b[0m \u001b[31m19.3 MB/s\u001b[0m eta \u001b[36m0:00:00\u001b[0m\n",
      "\u001b[?25hInstalling collected packages: tiktoken\n",
      "Successfully installed tiktoken-0.7.0\n"
     ]
    }
   ],
   "source": [
    "!pip install tiktoken"
   ]
  },
  {
   "cell_type": "markdown",
   "id": "01f9c201-ff84-4a21-a898-cab7e8c8f518",
   "metadata": {},
   "source": [
    "## E. Calaculating prompting costs "
   ]
  },
  {
   "cell_type": "code",
   "execution_count": 67,
   "id": "c4d8aeca-d611-4826-b3b2-f843e00a0ace",
   "metadata": {},
   "outputs": [],
   "source": [
    "import tiktoken"
   ]
  },
  {
   "cell_type": "code",
   "execution_count": 68,
   "id": "837ee4b5-14f4-4020-aab8-0f875209f0ef",
   "metadata": {},
   "outputs": [],
   "source": [
    "encoding = tiktoken.encoding_for_model(\"gpt-4o-mini\")"
   ]
  },
  {
   "cell_type": "code",
   "execution_count": 69,
   "id": "c5e377ac-25d8-468e-8f65-e33c2b939752",
   "metadata": {},
   "outputs": [
    {
     "data": {
      "text/plain": [
       "1030"
      ]
     },
     "execution_count": 69,
     "metadata": {},
     "output_type": "execute_result"
    }
   ],
   "source": [
    "search_results = elastic_search(query)\n",
    "\n",
    "prompt = build_prompt(query, search_results)\n",
    "\n",
    "len(encoding.encode(prompt))"
   ]
  },
  {
   "cell_type": "code",
   "execution_count": 70,
   "id": "a1ddbc90-3c10-4e2e-a6fb-ab8fd89957ee",
   "metadata": {},
   "outputs": [],
   "source": [
    "#gpt mini costs for sychronous API\n",
    "input_cost = (0.150/1000000) * len(encoding.encode(prompt))\n",
    "output_cost = (0.6/1000000 ) * len(encoding.encode(rag(query)))"
   ]
  },
  {
   "cell_type": "code",
   "execution_count": 83,
   "id": "894607b7-bbac-448c-a0f5-be393b6e96e8",
   "metadata": {},
   "outputs": [],
   "source": [
    "total_cost = \"{:.8f}\".format(input_cost + output_cost)\n",
    "\n",
    "naira_cost = \"{:.2f}\".format(1660*float(total_cost))"
   ]
  },
  {
   "cell_type": "code",
   "execution_count": 84,
   "id": "be7d2dda-5444-43fc-8fe1-d5fa9f38b1ef",
   "metadata": {
    "scrolled": true
   },
   "outputs": [
    {
     "name": "stdout",
     "output_type": "stream",
     "text": [
      "The cost of this prompt is $0.00017370 or #0.29\n"
     ]
    },
    {
     "data": {
      "text/plain": [
       "([3575, 553, 4165, 14029, 29186, 13, 30985, 290, 150339, 4122], None)"
      ]
     },
     "execution_count": 84,
     "metadata": {},
     "output_type": "execute_result"
    }
   ],
   "source": [
    "tokens = encoding.encode(prompt)[:10]\n",
    "\n",
    "\n",
    "tokens , print(f\"The cost of this prompt is ${total_cost} or #{naira_cost}\".format('a'))"
   ]
  }
 ],
 "metadata": {
  "kernelspec": {
   "display_name": "Python 3 (ipykernel)",
   "language": "python",
   "name": "python3"
  },
  "language_info": {
   "codemirror_mode": {
    "name": "ipython",
    "version": 3
   },
   "file_extension": ".py",
   "mimetype": "text/x-python",
   "name": "python",
   "nbconvert_exporter": "python",
   "pygments_lexer": "ipython3",
   "version": "3.12.1"
  }
 },
 "nbformat": 4,
 "nbformat_minor": 5
}
