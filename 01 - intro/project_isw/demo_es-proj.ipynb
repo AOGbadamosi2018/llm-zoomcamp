{
 "cells": [
  {
   "cell_type": "markdown",
   "metadata": {},
   "source": [
    "#### Architecture - Semantic Search using Elastic Search"
   ]
  },
  {
   "attachments": {
    "image.png": {
     "image/png": "[encoded data removed]"
    }
   },
   "cell_type": "markdown",
   "metadata": {},
   "source": [
    "\n",
    "![image.png](attachment:image.png)"
   ]
  },
  {
   "cell_type": "markdown",
   "metadata": {},
   "source": [
    "* Two very important concepts in Elasticsearch are documents and indexes.\n",
    "\n",
    "* A document is collection of fields with their associated values. \n",
    "\n",
    "* To work with Elasticsearch you have to organize your data into documents, and then add all your documents to an index. - \"isw-faq\"\n",
    "\n",
    "* Index as a collection of documents that is stored in a highly optimized format designed to perform efficient searches."
   ]
  },
  {
   "cell_type": "markdown",
   "metadata": {},
   "source": [
    "### 0. Converting from HTML to DOCX "
   ]
  },
  {
   "cell_type": "code",
   "execution_count": null,
   "metadata": {},
   "outputs": [],
   "source": []
  },
  {
   "cell_type": "code",
   "execution_count": null,
   "metadata": {},
   "outputs": [],
   "source": [
    "from spire.doc import *\n",
    "from spire.doc.common import *\n",
    "\n",
    "import requests \n",
    "\n",
    "# Create a Document from an html link \n",
    "\n",
    "def html_to_doc(html_link, output_filename):\n",
    "\n",
    "    \"\"\"\n",
    "    This function reads an html link\n",
    "    and returns a doc file .\n",
    "\n",
    "    \"\"\"\n",
    "\n",
    "    html_string= requests.get(f'{html_link}').content\n",
    "\n",
    "    document = Document()\n",
    "    section = document.AddSection()\n",
    "    section.PageSetup.Margins.All = 72\n",
    "    paragraph = section.AddParagraph()\n",
    "    \n",
    "    paragraph.AppendHTML(html_string)\n",
    "\n",
    "    print(\"Appended HTMLSTRING TO file saving to file now ... \")\n",
    "    \n",
    "    document.SaveToFile(f\"{output_filename}.docx\", FileFormat.Docx)\n",
    "    \n",
    "    document.Close()\n",
    "\n",
    "    return None \n",
    "\n"
   ]
  },
  {
   "cell_type": "code",
   "execution_count": null,
   "metadata": {},
   "outputs": [],
   "source": [
    "html_link = \"https://www.interswitchgroup.com/faq/faq.html\"\n",
    "output_filename = \"ISW_RAG\""
   ]
  },
  {
   "cell_type": "code",
   "execution_count": null,
   "metadata": {},
   "outputs": [],
   "source": [
    "html_to_doc(html_link, output_filename)"
   ]
  },
  {
   "cell_type": "markdown",
   "metadata": {},
   "source": [
    "### A. Preparing and updating the index "
   ]
  },
  {
   "cell_type": "markdown",
   "metadata": {},
   "source": [
    "#### Step 1: Prepare documents"
   ]
  },
  {
   "cell_type": "code",
   "execution_count": 1,
   "metadata": {},
   "outputs": [],
   "source": [
    "import json\n",
    "import tqdm\n",
    "\n",
    "with open('isw_rebirth_faq_document.json', 'rt') as f_in:\n",
    "    docs_raw = json.load(f_in)"
   ]
  },
  {
   "cell_type": "code",
   "execution_count": 2,
   "metadata": {},
   "outputs": [
    {
     "data": {
      "text/plain": [
       "{'text': 'Click on the Transfer Money menu\\nComplete the fields by inserting the account number, desired bank name and amount\\nInsert Card Details, i.e. PAN, Expiry Date, CVV, PIN, Safetoken/OTP or Verve eCash PIN if you are transferring from your eCash account.',\n",
       " 'question': 'How do I Transfer Money via Quickteller',\n",
       " 'subject': 'isw_general_faq'}"
      ]
     },
     "execution_count": 2,
     "metadata": {},
     "output_type": "execute_result"
    }
   ],
   "source": [
    "# section reassignment necessary to get every section on the same level\n",
    "documents = []\n",
    "\n",
    "for isw_dict in docs_raw:\n",
    "    for doc in isw_dict['documents']:\n",
    "        doc['subject'] = isw_dict['subject']\n",
    "        documents.append(doc)\n",
    "\n",
    "documents[1]"
   ]
  },
  {
   "cell_type": "markdown",
   "metadata": {},
   "source": [
    "#### Step 2: Create Embeddings using Pretrained Models"
   ]
  },
  {
   "cell_type": "markdown",
   "metadata": {},
   "source": [
    "Sentence Transformers documentation here: https://www.sbert.net/docs/sentence_transformer/pretrained_models.html"
   ]
  },
  {
   "cell_type": "markdown",
   "metadata": {},
   "source": [
    "#### managing space - https://docs.github.com/en/codespaces/troubleshooting/troubleshooting-creation-and-deletion-of-codespaces"
   ]
  },
  {
   "cell_type": "code",
   "execution_count": 3,
   "metadata": {},
   "outputs": [],
   "source": [
    "#!pip install sentence_transformers==2.7.0"
   ]
  },
  {
   "cell_type": "code",
   "execution_count": 4,
   "metadata": {},
   "outputs": [
    {
     "name": "stderr",
     "output_type": "stream",
     "text": [
      "/usr/local/python/3.12.1/lib/python3.12/site-packages/tqdm/auto.py:21: TqdmWarning: IProgress not found. Please update jupyter and ipywidgets. See https://ipywidgets.readthedocs.io/en/stable/user_install.html\n",
      "  from .autonotebook import tqdm as notebook_tqdm\n",
      "/usr/local/python/3.12.1/lib/python3.12/site-packages/transformers/tokenization_utils_base.py:1601: FutureWarning: `clean_up_tokenization_spaces` was not set. It will be set to `True` by default. This behavior will be depracted in transformers v4.45, and will be then set to `False` by default. For more details check this issue: https://github.com/huggingface/transformers/issues/31884\n",
      "  warnings.warn(\n"
     ]
    }
   ],
   "source": [
    "# This is a new library compared to the previous modules. \n",
    "# Please perform \"pip install sentence_transformers==2.7.0\"\n",
    "from sentence_transformers import SentenceTransformer\n",
    "\n",
    "# if you get an error do the following:\n",
    "# 1. Uninstall numpy \n",
    "# 2. Uninstall torch\n",
    "# 3. pip install numpy==1.26.4\n",
    "# 4. pip install torch\n",
    "# run the above cell, it should work\n",
    "model = SentenceTransformer(\"all-mpnet-base-v2\")"
   ]
  },
  {
   "cell_type": "code",
   "execution_count": 5,
   "metadata": {},
   "outputs": [],
   "source": [
    "#!pip install ipywidgets --upgrade jupyter nbextension enable --py widgetsnbextension --sys-prefix\n"
   ]
  },
  {
   "cell_type": "code",
   "execution_count": 6,
   "metadata": {},
   "outputs": [],
   "source": [
    "#documents[1]"
   ]
  },
  {
   "cell_type": "markdown",
   "metadata": {},
   "source": [
    "#### Next cell Takes a few mins "
   ]
  },
  {
   "cell_type": "code",
   "execution_count": 7,
   "metadata": {},
   "outputs": [
    {
     "name": "stderr",
     "output_type": "stream",
     "text": [
      "100%|███████████████████| 42/42 [00:08<00:00,  5.20it/s]\n"
     ]
    }
   ],
   "source": [
    "#created the dense vector using the pre-trained model\n",
    "operations = []\n",
    "for doc in tqdm.tqdm(documents):\n",
    "    # Transforming the title into an embedding using the model\n",
    "    doc[\"text_vector\"] = model.encode(doc[\"text\"]).tolist()\n",
    "    operations.append(doc)"
   ]
  },
  {
   "cell_type": "code",
   "execution_count": 8,
   "metadata": {},
   "outputs": [],
   "source": [
    "#operations[1]"
   ]
  },
  {
   "cell_type": "markdown",
   "metadata": {},
   "source": [
    "#### Step 3: Setup ElasticSearch connection "
   ]
  },
  {
   "cell_type": "code",
   "execution_count": 9,
   "metadata": {},
   "outputs": [],
   "source": [
    "#!pip install elasticsearch"
   ]
  },
  {
   "cell_type": "code",
   "execution_count": 12,
   "metadata": {},
   "outputs": [
    {
     "data": {
      "text/plain": [
       "ObjectApiResponse({'name': '89aeb0bc5113', 'cluster_name': 'docker-cluster', 'cluster_uuid': 'sUSgGTZoRWqnlR7fqJVh7w', 'version': {'number': '8.4.3', 'build_flavor': 'default', 'build_type': 'docker', 'build_hash': '42f05b9372a9a4a470db3b52817899b99a76ee73', 'build_date': '2022-10-04T07:17:24.662462378Z', 'build_snapshot': False, 'lucene_version': '9.3.0', 'minimum_wire_compatibility_version': '7.17.0', 'minimum_index_compatibility_version': '7.0.0'}, 'tagline': 'You Know, for Search'})"
      ]
     },
     "execution_count": 12,
     "metadata": {},
     "output_type": "execute_result"
    }
   ],
   "source": [
    "from elasticsearch import Elasticsearch\n",
    "es_client = Elasticsearch('http://localhost:9200') \n",
    "\n",
    "es_client.info()"
   ]
  },
  {
   "cell_type": "code",
   "execution_count": 15,
   "metadata": {},
   "outputs": [
    {
     "data": {
      "text/plain": [
       "ObjectApiResponse({'isw-rebirth-faq': {'aliases': {}}})"
      ]
     },
     "execution_count": 15,
     "metadata": {},
     "output_type": "execute_result"
    }
   ],
   "source": [
    "es_client.indices.get_alias()"
   ]
  },
  {
   "cell_type": "markdown",
   "metadata": {},
   "source": [
    "#### Step 4: Create Mappings and Index"
   ]
  },
  {
   "cell_type": "markdown",
   "metadata": {},
   "source": [
    "* Mapping is the process of defining how a document, and the fields it contains, are stored and indexed.\n",
    "\n",
    "* Each document is a collection of fields, which each have their own data type.\n",
    "\n",
    "* We can compare mapping to a database schema in how it describes the fields and properties that documents hold, the datatype of each field (e.g., string, integer, or date), and how those fields should be indexed and stored \n",
    "\n"
   ]
  },
  {
   "cell_type": "code",
   "execution_count": 13,
   "metadata": {},
   "outputs": [],
   "source": [
    "index_settings = {\n",
    "    \"settings\": {\n",
    "        \"number_of_shards\": 1,\n",
    "        \"number_of_replicas\": 0\n",
    "    },\n",
    "    \"mappings\": {\n",
    "        \"properties\": {\n",
    "            \"text\": {\"type\": \"text\"},\n",
    "            \"question\": {\"type\": \"text\"},\n",
    "            \"subject\": {\"type\": \"keyword\"} ,\n",
    "            \"text_vector\": {\"type\": \"dense_vector\", \"dims\": 768, \"index\": True, \"similarity\": \"cosine\"},\n",
    "        }\n",
    "    }\n",
    "}"
   ]
  },
  {
   "cell_type": "code",
   "execution_count": 14,
   "metadata": {},
   "outputs": [
    {
     "data": {
      "text/plain": [
       "ObjectApiResponse({'acknowledged': True, 'shards_acknowledged': True, 'index': 'isw-rebirth-faq'})"
      ]
     },
     "execution_count": 14,
     "metadata": {},
     "output_type": "execute_result"
    }
   ],
   "source": [
    "index_name = \"isw-rebirth-faq\"\n",
    "\n",
    "es_client.indices.delete(index=index_name, ignore_unavailable=True)\n",
    "es_client.indices.create(index=index_name, body=index_settings)"
   ]
  },
  {
   "cell_type": "markdown",
   "metadata": {},
   "source": [
    "#### Step 5: Add documents into index"
   ]
  },
  {
   "cell_type": "code",
   "execution_count": 16,
   "metadata": {},
   "outputs": [],
   "source": [
    "for doc in operations:\n",
    "    try:\n",
    "        es_client.index(index=index_name, document=doc)\n",
    "    except Exception as e:\n",
    "        print(e)"
   ]
  },
  {
   "cell_type": "markdown",
   "metadata": {},
   "source": [
    "#### Step 6: Create end user query"
   ]
  },
  {
   "cell_type": "code",
   "execution_count": 17,
   "metadata": {},
   "outputs": [],
   "source": [
    "search_term = \"loan\"\n",
    "vector_search_term = model.encode(search_term)"
   ]
  },
  {
   "cell_type": "code",
   "execution_count": 18,
   "metadata": {},
   "outputs": [
    {
     "data": {
      "text/plain": [
       "768"
      ]
     },
     "execution_count": 18,
     "metadata": {},
     "output_type": "execute_result"
    }
   ],
   "source": [
    "len(model.encode(\"telephone\"))"
   ]
  },
  {
   "cell_type": "code",
   "execution_count": 19,
   "metadata": {},
   "outputs": [],
   "source": [
    "#k means profide 5 nearest searches\n",
    "\n",
    "search_term = \"loan\"\n",
    "vector_search_term = model.encode(search_term)\n",
    "\n",
    "query = {\n",
    "    \"field\": \"text_vector\",\n",
    "    \"query_vector\": vector_search_term,\n",
    "    \"k\": 5,\n",
    "    \"num_candidates\": 10000, \n",
    "}"
   ]
  },
  {
   "cell_type": "code",
   "execution_count": 20,
   "metadata": {},
   "outputs": [
    {
     "data": {
      "text/plain": [
       "[{'_index': 'isw-rebirth-faq',\n",
       "  '_id': 'uIBy3JEB4wWSaoIjbT1d',\n",
       "  '_score': 0.74169904,\n",
       "  '_source': {'question': 'How can I request for a loan on my Quickteller mobile app?',\n",
       "   'text': 'To request for a loan via the mobile app;\\nTap on \"Loan\" from either the \"Menu sidebar\" or \"Quick Services\"\\nTap on \"Request Loan\"\\nProceed to select the preferred loan provider and accept the loan offer.\\nSelect your preferred card or enter a new card where your loan will be credited to'}},\n",
       " {'_index': 'isw-rebirth-faq',\n",
       "  '_id': 't4By3JEB4wWSaoIjbT1G',\n",
       "  '_score': 0.7040783,\n",
       "  '_source': {'question': 'How do I pay back my Loan',\n",
       "   'text': \"How do I repay online\\nGo to www.quickteller.com/ils and select the lender you have a loan with\\nEnter your phone number you used to apply and enter your email.\\nConfirm amount to pay.\\nEnter card details and complete repayment\\nHow do I repay using the ATM\\nInsert your ATM card and select the 'Quickteller' option\\nSelect 'Pay Bills'\\nSelect 'Others'\\nEnter Biller/Payment Code e.g. 04309403(Migo) or 04309401(Ferratum) or 04309407(Xtracash) or 04309411(Quickloan (Payzfast)) or 04309408(Instantcash) or 04309406(Lendaba) or 053389801(QuickFund) or 0439773977(Lendme) or  053389601(Creditdirect) or  04396902(Moninow)\\nFor the Customer Reference Number, enter the phone number used to request the loan\\nConfirm payment\\nHow do I repay using Short code (USSD)\\nDial *723#\\nSelect 'Pay Bills'\\nSelect 'Others'\\nEnter your Loan Biller name Migo, Ferratum, Xtracash, Quickloan (Payzfast), Instantcash, Lendaba, Lendme, QuickFund, Creditdirect, Moninow.\\nFor the Customer Reference Number, enter the phone number used to request the loan\\nEnter amount\\nSelect a card and enter card details\\nConfirm payment\\nHow do I repay at the Bank\\nWalk into any of these banks listed: Fidelity, Access, UBA, Keystone, Sterling, GT bank, Wema, Unity or Polaris\\nInform the bank you want to pay your loan on PAYDIRECT and give them your loan phone number as customer reference number.\\nHow do I repay at a Quickteller paypoint agent kiosk or shop\\nWalk into a Quickteler Paypoint agent's location near you and request to repay your loan.\\nYou will be asked to provide your phone number and cash for repayment.\\nHow do I pay with my ewallet\\nLog into your Quickteller account.\\nSearch for the lender you have a loan with on the search bar.\\nEnter your phone number used to apply for the loan, click on continue.\\nOn the card page, select your ewallet card as a repayment option and proceed to make payment\\nHow to use pay with transfer method\\nClick on the unique lenders link (https://www.quickteller.com/lender/xxxxxxxx)\\nSelect Repay loan.\\nSelect the pay now button\\nSelect Repay Loan with Bank Transfer and an Account number will be specifically generated for the customer.\\nInitiate a transfer using the account number generated for you.\"}},\n",
       " {'_index': 'isw-rebirth-faq',\n",
       "  '_id': 'uYBy3JEB4wWSaoIjbT11',\n",
       "  '_score': 0.70167524,\n",
       "  '_source': {'question': 'How do I repay my loan using my mobile app?',\n",
       "   'text': 'To repay your loan via the mobile app;\\nLogin to your Quickteller mobile ap\\nTap on the loan you want to pay back under \"Active\" Loan history\\nConfirm amount to pay.\\nEnter card details and complete repayment'}},\n",
       " {'_index': 'isw-rebirth-faq',\n",
       "  '_id': 'toBy3JEB4wWSaoIjbT0w',\n",
       "  '_score': 0.69213253,\n",
       "  '_source': {'question': 'How do I request for a Loan',\n",
       "   'text': \"To request for a loan via the website\\nClick here\\nEnter requested loan amount, account number to receive the loan as well as bank name\\nProceed to select the preferred loan provider and accept the loan offer.\\nTo request for a loan using Short Code\\nDial *723#\\nSelect 'Get Loan'\\nFollow prompt to get your loan disbursed\\nHow do I request for a loan extension? (Migo Only)\\nTo request a loan extension, simply dial *561# from your registered number\\nSelect 'loans'\\nSelect 'extend Loan'\"}},\n",
       " {'_index': 'isw-rebirth-faq',\n",
       "  '_id': 'roBy3JEB4wWSaoIjbD11',\n",
       "  '_score': 0.6567497,\n",
       "  '_source': {'question': 'I made a successful payment but I am yet to receive service as expected',\n",
       "   'text': 'Contact [email\\xa0protected] with your payment reference.'}}]"
      ]
     },
     "execution_count": 20,
     "metadata": {},
     "output_type": "execute_result"
    }
   ],
   "source": [
    "res = es_client.search(index=index_name, knn=query, source=[\"text\", \"question\", \"course\"])\n",
    "res[\"hits\"][\"hits\"]"
   ]
  },
  {
   "cell_type": "markdown",
   "metadata": {},
   "source": [
    "#### Step 7: Perform Keyword search with Semantic Search (Hybrid/Advanced Search)"
   ]
  },
  {
   "cell_type": "code",
   "execution_count": 32,
   "metadata": {},
   "outputs": [],
   "source": [
    "# Note: I made a minor modification to the query shown in the notebook here\n",
    "# (compare to the one shown in the video)\n",
    "# Included \"knn\" in the search query (to perform a semantic search) along with the filter \n",
    "\n",
    "search_term = \"loan\"\n",
    "vector_search_term = model.encode(search_term)\n",
    "\n",
    "query = {\n",
    "    \"field\": \"text_vector\",\n",
    "    \"query_vector\": vector_search_term,\n",
    "    \"k\": 5,\n",
    "    \"num_candidates\": 10000, \n",
    "}\n",
    "\n",
    "knn_query = {\n",
    "    \"field\": \"text_vector\",\n",
    "    \"query_vector\": vector_search_term,\n",
    "    \"k\": 5,\n",
    "    \"num_candidates\": 10000\n",
    "}"
   ]
  },
  {
   "cell_type": "code",
   "execution_count": 33,
   "metadata": {},
   "outputs": [],
   "source": [
    "search_term = \"loan\"\n",
    "vector_search_term = model.encode(search_term)\n",
    "\n",
    "query = {\n",
    "    \"field\": \"text_vector\",\n",
    "    \"query_vector\": vector_search_term,\n",
    "    \"k\": 5,\n",
    "    \"num_candidates\": 10000, \n",
    "}\n",
    "\n",
    "knn_query = {\n",
    "    \"field\": \"text_vector\",\n",
    "    \"query_vector\": vector_search_term,\n",
    "    \"k\": 5,\n",
    "    \"num_candidates\": 10000\n",
    "}\n",
    "\n",
    "\n",
    "response = es_client.search(\n",
    "    index=index_name,\n",
    "    query={\n",
    "        \"match\": {\"subject\": f\"{subject}\"},\n",
    "    },\n",
    "    knn=knn_query,\n",
    "    size=5,\n",
    "    explain = True\n",
    ")"
   ]
  },
  {
   "cell_type": "code",
   "execution_count": 35,
   "metadata": {},
   "outputs": [],
   "source": [
    "#response[\"hits\"][\"hits\"]"
   ]
  },
  {
   "cell_type": "markdown",
   "metadata": {},
   "source": [
    "### B. OPERATIONALIZNG THE RAG FLOW - with semantic search "
   ]
  },
  {
   "cell_type": "code",
   "execution_count": 1,
   "metadata": {},
   "outputs": [
    {
     "name": "stderr",
     "output_type": "stream",
     "text": [
      "/usr/local/python/3.12.1/lib/python3.12/site-packages/tqdm/auto.py:21: TqdmWarning: IProgress not found. Please update jupyter and ipywidgets. See https://ipywidgets.readthedocs.io/en/stable/user_install.html\n",
      "  from .autonotebook import tqdm as notebook_tqdm\n",
      "/usr/local/python/3.12.1/lib/python3.12/site-packages/transformers/tokenization_utils_base.py:1601: FutureWarning: `clean_up_tokenization_spaces` was not set. It will be set to `True` by default. This behavior will be depracted in transformers v4.45, and will be then set to `False` by default. For more details check this issue: https://github.com/huggingface/transformers/issues/31884\n",
      "  warnings.warn(\n"
     ]
    }
   ],
   "source": [
    "import os \n",
    "from openai import OpenAI\n",
    "\n",
    "from elasticsearch import Elasticsearch\n",
    "es_client = Elasticsearch('http://localhost:9200') \n",
    "\n",
    "\n",
    "from sentence_transformers import SentenceTransformer\n",
    "model = SentenceTransformer(\"all-mpnet-base-v2\")"
   ]
  },
  {
   "cell_type": "code",
   "execution_count": 2,
   "metadata": {},
   "outputs": [],
   "source": [
    "def build_prompt(query, search_results):\n",
    "    prompt_template = \"\"\"\n",
    "    You are course teaching assistant. Answer the QUESTION based on context from the FAQ databse.\n",
    "    Use only the facts from the CONTEXT when answering the QUESTION \n",
    "    If the CONTEXT doesn't contain the answer , output NONE\n",
    "    \n",
    "    \n",
    "    QUESTION: {question}\n",
    "    \n",
    "    CONTEXT: {context}\n",
    "    \n",
    "    \"\"\".strip()\n",
    "\n",
    "    context = \"\"\n",
    "\n",
    "    for doc in search_results:\n",
    "        context = context + f\"question: {doc['question']}\\nanswer: {doc['text']}\\n\\n\"\n",
    "\n",
    "\n",
    "    prompt = prompt_template.format(question=query, context=context).strip()\n",
    "\n",
    "    return prompt\n",
    "\n"
   ]
  },
  {
   "cell_type": "code",
   "execution_count": 60,
   "metadata": {},
   "outputs": [],
   "source": [
    "# # RAG with semantic search \n",
    "# def elastic_search(query, subject) : \n",
    "    \n",
    "#     index_name = \"isw-rebirth-faq\"\n",
    "#     search_term = query\n",
    "#     vector_search_term = model.encode(search_term)\n",
    "    \n",
    "    \n",
    "#     knn_query = {\n",
    "#         \"field\": \"text_vector\",\n",
    "#         \"query_vector\": vector_search_term,\n",
    "#         \"k\": 5,\n",
    "#         \"num_candidates\": 10000\n",
    "#     }\n",
    "    \n",
    "    \n",
    "#     response = es_client.search(\n",
    "#         index=index_name,\n",
    "#         query={\n",
    "#             \"match\": {\"subject\": f\"{subject}\"},\n",
    "#         },\n",
    "#         knn=knn_query,\n",
    "#         size=5,\n",
    "#         explain = True\n",
    "#     )\n",
    "    \n",
    "    \n",
    "#     #collecting the several documents into one List (Constant time complexity)\n",
    "#     result_docs = [] \n",
    "    \n",
    "#     for hit in response['hits']['hits']:\n",
    "#         result_docs.append(hit['_source'])\n",
    "\n",
    "#     return result_docs\n"
   ]
  },
  {
   "cell_type": "code",
   "execution_count": 61,
   "metadata": {},
   "outputs": [],
   "source": [
    "def elastic_search(query, subject=None):\n",
    "    index_name = \"isw-rebirth-faq\"\n",
    "    search_term = query\n",
    "    vector_search_term = model.encode(search_term)\n",
    "    \n",
    "    knn_query = {\n",
    "        \"field\": \"text_vector\",\n",
    "        \"query_vector\": vector_search_term,\n",
    "        \"k\": 5,\n",
    "        \"num_candidates\": 10000\n",
    "    }\n",
    "    \n",
    "    if subject and subject in [\"isw_general_faq\", \"qt_rebirth_faq\"]:\n",
    "        response = es_client.search(\n",
    "            index=index_name,\n",
    "            query={\n",
    "                \"match\": {\"subject\": f\"{subject}\"},\n",
    "            },\n",
    "            knn=knn_query,\n",
    "            size=5,\n",
    "            explain=True\n",
    "        )\n",
    "    else:\n",
    "        response = es_client.search(\n",
    "            index=index_name,\n",
    "            knn=knn_query,\n",
    "            size=5,\n",
    "            explain=True\n",
    "        )\n",
    "    \n",
    "    # Collecting the several documents into one list (Constant time complexity)\n",
    "    result_docs = []\n",
    "    \n",
    "    for hit in response['hits']['hits']:\n",
    "        result_docs.append(hit['_source'])\n",
    "\n",
    "    return result_docs\n"
   ]
  },
  {
   "cell_type": "code",
   "execution_count": 62,
   "metadata": {},
   "outputs": [],
   "source": [
    "# modularizing the logic for invoking the gpt \n",
    "\n",
    "def llm(prompt):\n",
    "    client = OpenAI(api_key = os.environ['OPENAI_API_KEY'])\n",
    "    response = client.chat.completions.create(\n",
    "    model='gpt-4o-mini',\n",
    "    messages=[{\"role\":'user', \"content\":prompt}])\n",
    "\n",
    "    return response.choices[0].message.content"
   ]
  },
  {
   "cell_type": "code",
   "execution_count": 63,
   "metadata": {},
   "outputs": [],
   "source": [
    "#Adjusting the RAG workflow to use the elastic search index mappings\n",
    "\n",
    "# modularized calls \n",
    "def rag(query, subject=None):\n",
    " \n",
    "    search_results = elastic_search(query, subject)\n",
    "    \n",
    "    prompt = build_prompt(query, search_results)\n",
    "    \n",
    "    answer = llm(prompt)\n",
    "\n",
    "    return answer"
   ]
  },
  {
   "cell_type": "code",
   "execution_count": 87,
   "metadata": {},
   "outputs": [],
   "source": [
    "query = \"How can I upgrage my Quickteller account?\""
   ]
  },
  {
   "cell_type": "code",
   "execution_count": 88,
   "metadata": {},
   "outputs": [],
   "source": [
    "#isw_general_faq\n",
    "#qt_rebirth_faq"
   ]
  },
  {
   "cell_type": "code",
   "execution_count": 89,
   "metadata": {},
   "outputs": [
    {
     "data": {
      "text/plain": [
       "'To remove a card from Quickteller, follow these steps:\\n1. Sign into the Quickteller platform.\\n2. Click on wallet and navigate to Bank Cards.\\n3. Select the card you wish to remove.\\n4. Click on remove to remove the saved card.'"
      ]
     },
     "execution_count": 89,
     "metadata": {},
     "output_type": "execute_result"
    }
   ],
   "source": [
    "rag(query)"
   ]
  },
  {
   "cell_type": "markdown",
   "metadata": {},
   "source": [
    "### C. Evaluating Performance with Subject Switching"
   ]
  },
  {
   "cell_type": "code",
   "execution_count": 68,
   "metadata": {},
   "outputs": [],
   "source": [
    "import time "
   ]
  },
  {
   "cell_type": "code",
   "execution_count": 55,
   "metadata": {},
   "outputs": [
    {
     "name": "stdout",
     "output_type": "stream",
     "text": [
      "Execution time: 0.6951439380645752 seconds To view your ecash, you need to sign in to Quickteller and navigate to your wallet, as your ecash is now located there.\n"
     ]
    }
   ],
   "source": [
    "start_time = time.time()\n",
    "result = rag(query, subject=\"nincompoods\")\n",
    "end_time = time.time()\n",
    "\n",
    "execution_time = end_time - start_time\n",
    "print(f\"Execution time: {execution_time} seconds\",result)"
   ]
  },
  {
   "cell_type": "code",
   "execution_count": 56,
   "metadata": {},
   "outputs": [
    {
     "name": "stdout",
     "output_type": "stream",
     "text": [
      "Execution time: 0.6781909465789795 seconds To view your eCash, sign in to Quickteller and navigate to your wallet, as your eCash is now located there.\n"
     ]
    }
   ],
   "source": [
    "start_time = time.time()\n",
    "result = rag(query, subject=\"qt_rebirth_faq\")\n",
    "end_time = time.time()\n",
    "\n",
    "execution_time = end_time - start_time\n",
    "print(f\"Execution time: {execution_time} seconds\", result)"
   ]
  },
  {
   "cell_type": "code",
   "execution_count": 57,
   "metadata": {},
   "outputs": [
    {
     "name": "stdout",
     "output_type": "stream",
     "text": [
      "Execution time: 0.8158679008483887 seconds Your ecash is now located in your wallet. To view your ecash, sign in to Quickteller and navigate to wallet to view your eCash balance.\n"
     ]
    }
   ],
   "source": [
    "start_time = time.time()\n",
    "result = rag(query, subject=\"isw_general_faq\")\n",
    "end_time = time.time()\n",
    "\n",
    "execution_time = end_time - start_time\n",
    "print(f\"Execution time: {execution_time} seconds\", result)"
   ]
  },
  {
   "cell_type": "markdown",
   "metadata": {},
   "source": [
    "### D. References"
   ]
  },
  {
   "cell_type": "markdown",
   "metadata": {},
   "source": [
    "1. https://logz.io/blog/elasticsearch-mapping/#:~:text=Within%20a%20search%20engine%2C%20mapping,indexes%20and%20stores%20its%20fields\n",
    "\n",
    "2. https://www.sbert.net/docs/sentence_transformer/pretrained_models.html\n",
    "\n",
    "3. https://www.elastic.co/search-labs/tutorials\n",
    "\n",
    "4. https://www.elastic.co/search-labs/blog/text-similarity-search-with-vectors-in-elasticsearch"
   ]
  }
 ],
 "metadata": {
  "kernelspec": {
   "display_name": "Python 3 (ipykernel)",
   "language": "python",
   "name": "python3"
  },
  "language_info": {
   "codemirror_mode": {
    "name": "ipython",
    "version": 3
   },
   "file_extension": ".py",
   "mimetype": "text/x-python",
   "name": "python",
   "nbconvert_exporter": "python",
   "pygments_lexer": "ipython3",
   "version": "3.12.1"
  }
 },
 "nbformat": 4,
 "nbformat_minor": 4
}
