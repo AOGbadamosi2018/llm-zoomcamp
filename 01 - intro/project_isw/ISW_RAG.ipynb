{
 "cells": [
  {
   "cell_type": "code",
   "execution_count": 17,
   "id": "b826fef5-1310-4267-bc66-21ec7ec882a7",
   "metadata": {},
   "outputs": [],
   "source": [
    "#### This script takes ISW's FAQ page and creates a document to be indexed. "
   ]
  },
  {
   "cell_type": "code",
   "execution_count": 30,
   "id": "7bfe063f-a8bb-4655-bf77-fe7aa6e3001b",
   "metadata": {},
   "outputs": [],
   "source": [
    "from spire.doc import *\n",
    "from spire.doc.common import *\n",
    "\n",
    "import requests \n",
    "\n",
    "# Create a Document from an html link \n",
    "\n",
    "def html_to_doc(html_link, output_filename):\n",
    "\n",
    "    \"\"\"\n",
    "    This function reads an html link\n",
    "    and returns a doc file .\n",
    "\n",
    "    \"\"\"\n",
    "\n",
    "    html_string= requests.get(f'{html_link}').content\n",
    "\n",
    "    document = Document()\n",
    "    section = document.AddSection()\n",
    "    section.PageSetup.Margins.All = 72\n",
    "    paragraph = section.AddParagraph()\n",
    "    \n",
    "    paragraph.AppendHTML(html_string)\n",
    "\n",
    "    print(\"Appended HTMLSTRING TO file saving to file now ... \")\n",
    "    \n",
    "    document.SaveToFile(f\"{output_filename}.docx\", FileFormat.Docx)\n",
    "    \n",
    "    document.Close()\n",
    "\n",
    "    return None \n",
    "\n"
   ]
  },
  {
   "cell_type": "code",
   "execution_count": 31,
   "id": "bbcd8727-94c2-4e42-8e37-0c8929b12cfa",
   "metadata": {},
   "outputs": [],
   "source": [
    "html_link = \"https://www.interswitchgroup.com/faq/faq.html\"\n",
    "output_filename = \"ISW_RAG\""
   ]
  },
  {
   "cell_type": "code",
   "execution_count": 32,
   "id": "73fb93bb-6c7b-4894-8188-f5696b069064",
   "metadata": {},
   "outputs": [
    {
     "name": "stdout",
     "output_type": "stream",
     "text": [
      "Appended HTMLSTRING TO file saving to file now ... \n"
     ]
    }
   ],
   "source": [
    "html_to_doc(html_link, output_filename)"
   ]
  },
  {
   "cell_type": "code",
   "execution_count": null,
   "id": "10a154d8-2e71-49fd-aba3-ce228dd2853e",
   "metadata": {},
   "outputs": [],
   "source": []
  }
 ],
 "metadata": {
  "kernelspec": {
   "display_name": "Python 3 (ipykernel)",
   "language": "python",
   "name": "python3"
  },
  "language_info": {
   "codemirror_mode": {
    "name": "ipython",
    "version": 3
   },
   "file_extension": ".py",
   "mimetype": "text/x-python",
   "name": "python",
   "nbconvert_exporter": "python",
   "pygments_lexer": "ipython3",
   "version": "3.12.1"
  }
 },
 "nbformat": 4,
 "nbformat_minor": 5
}
